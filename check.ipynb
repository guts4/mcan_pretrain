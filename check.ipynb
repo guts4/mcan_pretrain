{
 "cells": [
  {
   "cell_type": "code",
   "execution_count": 62,
   "metadata": {},
   "outputs": [
    {
     "name": "stdout",
     "output_type": "stream",
     "text": [
      "81434\n",
      "81434\n"
     ]
    }
   ],
   "source": [
    "import os\n",
    "print(len(os.listdir(r\"/root/workspace/24s-VQA-MLLM/dataset/coco/images/test2015\")))\n",
    "print(len(os.listdir(r\"/root/workspace/24s-VQA-MLLM/features/test2015\")))"
   ]
  }
 ],
 "metadata": {
  "kernelspec": {
   "display_name": "mcan_pretrain",
   "language": "python",
   "name": "python3"
  },
  "language_info": {
   "codemirror_mode": {
    "name": "ipython",
    "version": 3
   },
   "file_extension": ".py",
   "mimetype": "text/x-python",
   "name": "python",
   "nbconvert_exporter": "python",
   "pygments_lexer": "ipython3",
   "version": "3.9.0"
  }
 },
 "nbformat": 4,
 "nbformat_minor": 2
}
